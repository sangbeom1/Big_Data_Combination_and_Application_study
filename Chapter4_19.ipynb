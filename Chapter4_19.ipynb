{
 "cells": [
  {
   "cell_type": "code",
   "execution_count": 1,
   "metadata": {
    "scrolled": false
   },
   "outputs": [
    {
     "data": {
      "text/html": [
       "<div>\n",
       "<style scoped>\n",
       "    .dataframe tbody tr th:only-of-type {\n",
       "        vertical-align: middle;\n",
       "    }\n",
       "\n",
       "    .dataframe tbody tr th {\n",
       "        vertical-align: top;\n",
       "    }\n",
       "\n",
       "    .dataframe thead th {\n",
       "        text-align: right;\n",
       "    }\n",
       "</style>\n",
       "<table border=\"1\" class=\"dataframe\">\n",
       "  <thead>\n",
       "    <tr style=\"text-align: right;\">\n",
       "      <th></th>\n",
       "      <th>Unnamed: 0</th>\n",
       "      <th>ID</th>\n",
       "      <th>상호명</th>\n",
       "      <th>포장</th>\n",
       "      <th>예약</th>\n",
       "      <th>주소</th>\n",
       "      <th>평균가격</th>\n",
       "      <th>최소가격</th>\n",
       "      <th>최대가격</th>\n",
       "    </tr>\n",
       "  </thead>\n",
       "  <tbody>\n",
       "    <tr>\n",
       "      <th>0</th>\n",
       "      <td>2376</td>\n",
       "      <td>117568348</td>\n",
       "      <td>요리남</td>\n",
       "      <td>0</td>\n",
       "      <td>0</td>\n",
       "      <td>서울 마포구 홍익로3길 35</td>\n",
       "      <td>6100.0000</td>\n",
       "      <td>3900</td>\n",
       "      <td>7500</td>\n",
       "    </tr>\n",
       "    <tr>\n",
       "      <th>1</th>\n",
       "      <td>3667</td>\n",
       "      <td>1315743336</td>\n",
       "      <td>연탄콩</td>\n",
       "      <td>0</td>\n",
       "      <td>0</td>\n",
       "      <td>서울 마포구 백범로 111</td>\n",
       "      <td>6000.0000</td>\n",
       "      <td>6000</td>\n",
       "      <td>6000</td>\n",
       "    </tr>\n",
       "    <tr>\n",
       "      <th>2</th>\n",
       "      <td>787</td>\n",
       "      <td>20890363</td>\n",
       "      <td>도깨비우동</td>\n",
       "      <td>0</td>\n",
       "      <td>0</td>\n",
       "      <td>서울 서대문구 증가로 250</td>\n",
       "      <td>5166.6667</td>\n",
       "      <td>5000</td>\n",
       "      <td>5500</td>\n",
       "    </tr>\n",
       "    <tr>\n",
       "      <th>3</th>\n",
       "      <td>608</td>\n",
       "      <td>19754147</td>\n",
       "      <td>신촌돈부리모노</td>\n",
       "      <td>1</td>\n",
       "      <td>0</td>\n",
       "      <td>서울 서대문구 연세로4길 46</td>\n",
       "      <td>8000.0000</td>\n",
       "      <td>7000</td>\n",
       "      <td>9000</td>\n",
       "    </tr>\n",
       "    <tr>\n",
       "      <th>4</th>\n",
       "      <td>4142</td>\n",
       "      <td>1509630356</td>\n",
       "      <td>장미맨숀 신촌점</td>\n",
       "      <td>0</td>\n",
       "      <td>0</td>\n",
       "      <td>서울 서대문구 연세로5가길 8-6</td>\n",
       "      <td>17000.0000</td>\n",
       "      <td>15000</td>\n",
       "      <td>23000</td>\n",
       "    </tr>\n",
       "  </tbody>\n",
       "</table>\n",
       "</div>"
      ],
      "text/plain": [
       "   Unnamed: 0          ID       상호명  포장  예약                  주소        평균가격  \\\n",
       "0        2376   117568348       요리남   0   0     서울 마포구 홍익로3길 35   6100.0000   \n",
       "1        3667  1315743336       연탄콩   0   0      서울 마포구 백범로 111   6000.0000   \n",
       "2         787    20890363     도깨비우동   0   0     서울 서대문구 증가로 250   5166.6667   \n",
       "3         608    19754147   신촌돈부리모노   1   0    서울 서대문구 연세로4길 46   8000.0000   \n",
       "4        4142  1509630356  장미맨숀 신촌점   0   0  서울 서대문구 연세로5가길 8-6  17000.0000   \n",
       "\n",
       "    최소가격   최대가격  \n",
       "0   3900   7500  \n",
       "1   6000   6000  \n",
       "2   5000   5500  \n",
       "3   7000   9000  \n",
       "4  15000  23000  "
      ]
     },
     "execution_count": 1,
     "metadata": {},
     "output_type": "execute_result"
    }
   ],
   "source": [
    "import pandas as pd\n",
    "df = pd.read_csv(\"Naver_Restaurant_Reduced.csv\", encoding='CP949')\n",
    "df.head()"
   ]
  },
  {
   "cell_type": "code",
   "execution_count": 2,
   "metadata": {
    "scrolled": true
   },
   "outputs": [
    {
     "data": {
      "image/png": "[encoded data removed]",
      "text/plain": [
       "<Figure size 432x288 with 1 Axes>"
      ]
     },
     "metadata": {
      "needs_background": "light"
     },
     "output_type": "display_data"
    }
   ],
   "source": [
    "import numpy as np\n",
    "hist, bins = np.histogram(df[\"평균가격\"].values, range=(0,180000))\n",
    "hist = hist / hist.sum()\n",
    "\n",
    "import matplotlib.pyplot as plt\n",
    "plt.bar(bins[:-1], hist, width=(bins[1]-bins[0]) * 0.9)\n",
    "plt.show()"
   ]
  },
  {
   "cell_type": "code",
   "execution_count": 3,
   "metadata": {},
   "outputs": [
    {
     "data": {
      "image/png": "[encoded data removed]",
      "text/plain": [
       "<Figure size 432x288 with 1 Axes>"
      ]
     },
     "metadata": {
      "needs_background": "light"
     },
     "output_type": "display_data"
    },
    {
     "name": "stdout",
     "output_type": "stream",
     "text": [
      "정보손실 정도: 0.008016\n"
     ]
    }
   ],
   "source": [
    "from diffprivlib import tools as dp\n",
    "#차등정보보호로 얻게되는 결과는 랜덤성이 있어 '정보손실 정도'와 '히스토그램'이 다를 수 있음\n",
    "dp_hist1, dp_bins1 = dp.histogram(df[\"평균가격\"].values, epsilon=1, range=(0,180000)) \n",
    "dp_hist1 = dp_hist1 / dp_hist1.sum()\n",
    "\n",
    "plt.bar(dp_bins1[:-1], dp_hist1, width=(dp_bins1[1] - dp_bins1[0]) * 0.9)\n",
    "plt.show()\n",
    "\n",
    "print(\"정보손실 정도: %f\" % np.abs(hist - dp_hist1).sum())"
   ]
  },
  {
   "cell_type": "code",
   "execution_count": 4,
   "metadata": {
    "scrolled": true
   },
   "outputs": [
    {
     "data": {
      "image/png": "[encoded data removed]",
      "text/plain": [
       "<Figure size 432x288 with 1 Axes>"
      ]
     },
     "metadata": {
      "needs_background": "light"
     },
     "output_type": "display_data"
    },
    {
     "name": "stdout",
     "output_type": "stream",
     "text": [
      "정보손실 정도: 0.600998\n"
     ]
    }
   ],
   "source": [
    "#차등정보보호로 얻게되는 결과는 랜덤성이 있어 '정보손실 정도'와 '히스토그램'이 다를 수 있음\n",
    "dp_hist2, dp_bins2 = dp.histogram(df[\"평균가격\"].values, epsilon=0.01, range=(0,180000))\n",
    "dp_hist2 = dp_hist2 / dp_hist2.sum()\n",
    "\n",
    "plt.bar(dp_bins2[:-1], dp_hist2, width=(dp_bins2[1] - dp_bins2[0]) * 0.9)\n",
    "plt.show()\n",
    "\n",
    "print(\"정보손실 정도: %f\" % np.abs(hist - dp_hist2).sum())"
   ]
  }
 ],
 "metadata": {
  "kernelspec": {
   "display_name": "Python 3",
   "language": "python",
   "name": "python3"
  },
  "language_info": {
   "codemirror_mode": {
    "name": "ipython",
    "version": 3
   },
   "file_extension": ".py",
   "mimetype": "text/x-python",
   "name": "python",
   "nbconvert_exporter": "python",
   "pygments_lexer": "ipython3",
   "version": "3.7.9"
  }
 },
 "nbformat": 4,
 "nbformat_minor": 4
}
