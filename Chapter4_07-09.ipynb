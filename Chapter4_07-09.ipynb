{
 "cells": [
  {
   "cell_type": "markdown",
   "metadata": {},
   "source": [
    "<h1><center>연속형 데이터 거리 측정</center></h1>\n",
    "\n",
    "<h2><center>1. Euclidean distance</center></h2>"
   ]
  },
  {
   "cell_type": "markdown",
   "metadata": {},
   "source": [
    "#### 예시: 연속형 2차원 벡터의 Euclidean 거리 계산\n",
    "* (3,4)와 (6,6)의 Euclidean 거리를 계산한다."
   ]
  },
  {
   "cell_type": "code",
   "execution_count": 1,
   "metadata": {},
   "outputs": [
    {
     "data": {
      "text/plain": [
       "3.605551275463989"
      ]
     },
     "execution_count": 1,
     "metadata": {},
     "output_type": "execute_result"
    }
   ],
   "source": [
    "from scipy.spatial.distance import euclidean\n",
    "\n",
    "point1 = [3, 4]\n",
    "point2 = [6, 6]\n",
    "euclidean(point1, point2)"
   ]
  },
  {
   "cell_type": "markdown",
   "metadata": {},
   "source": [
    "<h2><center>2. Manhattan distance</center></h2>"
   ]
  },
  {
   "cell_type": "markdown",
   "metadata": {},
   "source": [
    "#### 예시: 연속형 2차원 벡터의 Manhattan 거리 계산\n",
    "* (3,4)와 (6,6)의 Manhattan 거리를 계산한다."
   ]
  },
  {
   "cell_type": "code",
   "execution_count": 2,
   "metadata": {},
   "outputs": [
    {
     "data": {
      "text/plain": [
       "5"
      ]
     },
     "execution_count": 2,
     "metadata": {},
     "output_type": "execute_result"
    }
   ],
   "source": [
    "from scipy.spatial.distance import cityblock\n",
    "\n",
    "point1 = [3, 4]\n",
    "point2 = [6, 6]\n",
    "cityblock(point1, point2)"
   ]
  },
  {
   "cell_type": "markdown",
   "metadata": {},
   "source": [
    "<h2><center>3. Cosine distance</center></h2>"
   ]
  },
  {
   "cell_type": "markdown",
   "metadata": {},
   "source": [
    "#### 예시: 연속형 2차원 벡터의 Cosine 거리 계산\n",
    "* (3,4)와 (6,6)의 Cosine 거리를 계산한다."
   ]
  },
  {
   "cell_type": "code",
   "execution_count": 3,
   "metadata": {},
   "outputs": [
    {
     "data": {
      "text/plain": [
       "0.010050506338833531"
      ]
     },
     "execution_count": 3,
     "metadata": {},
     "output_type": "execute_result"
    }
   ],
   "source": [
    "from scipy.spatial.distance import cosine\n",
    "point1 = [3, 4]\n",
    "point2 = [6, 6]\n",
    "cosine(point1, point2)"
   ]
  },
  {
   "cell_type": "markdown",
   "metadata": {},
   "source": [
    "<h2><center>4. Mahalanobis distance</center></h2>"
   ]
  },
  {
   "cell_type": "code",
   "execution_count": 4,
   "metadata": {},
   "outputs": [
    {
     "data": {
      "text/plain": [
       "2.889345293278125"
      ]
     },
     "execution_count": 4,
     "metadata": {},
     "output_type": "execute_result"
    }
   ],
   "source": [
    "import numpy as np\n",
    "from scipy.spatial.distance import mahalanobis\n",
    "np.random.seed(1)\n",
    "x = np.random.uniform(0.5,5,size=100)\n",
    "y = x + np.random.normal(0,0.5,size=100)\n",
    "\n",
    "# numpy의 함수를 이용해서 데이터의 표본 공분산을 계산하고 그 역행렬을 구한다.\n",
    "V_inv = np.linalg.inv(np.cov(x,y))\n",
    "\n",
    "vector1 = [x[0], y[0]]\n",
    "vector2 = [x[50], y[50]]\n",
    "\n",
    "mahalanobis( vector1, vector2 , V_inv)"
   ]
  },
  {
   "cell_type": "markdown",
   "metadata": {},
   "source": [
    "<h2><center>5. 범주형 거리</center></h2>"
   ]
  },
  {
   "cell_type": "code",
   "execution_count": 5,
   "metadata": {},
   "outputs": [
    {
     "data": {
      "text/html": [
       "<div>\n",
       "<style scoped>\n",
       "    .dataframe tbody tr th:only-of-type {\n",
       "        vertical-align: middle;\n",
       "    }\n",
       "\n",
       "    .dataframe tbody tr th {\n",
       "        vertical-align: top;\n",
       "    }\n",
       "\n",
       "    .dataframe thead th {\n",
       "        text-align: right;\n",
       "    }\n",
       "</style>\n",
       "<table border=\"1\" class=\"dataframe\">\n",
       "  <thead>\n",
       "    <tr style=\"text-align: right;\">\n",
       "      <th></th>\n",
       "      <th>A</th>\n",
       "      <th>B</th>\n",
       "      <th>AB</th>\n",
       "      <th>O</th>\n",
       "    </tr>\n",
       "  </thead>\n",
       "  <tbody>\n",
       "    <tr>\n",
       "      <th>0</th>\n",
       "      <td>1</td>\n",
       "      <td>0</td>\n",
       "      <td>0</td>\n",
       "      <td>0</td>\n",
       "    </tr>\n",
       "    <tr>\n",
       "      <th>1</th>\n",
       "      <td>0</td>\n",
       "      <td>1</td>\n",
       "      <td>0</td>\n",
       "      <td>0</td>\n",
       "    </tr>\n",
       "    <tr>\n",
       "      <th>2</th>\n",
       "      <td>0</td>\n",
       "      <td>0</td>\n",
       "      <td>1</td>\n",
       "      <td>0</td>\n",
       "    </tr>\n",
       "    <tr>\n",
       "      <th>3</th>\n",
       "      <td>0</td>\n",
       "      <td>0</td>\n",
       "      <td>0</td>\n",
       "      <td>1</td>\n",
       "    </tr>\n",
       "  </tbody>\n",
       "</table>\n",
       "</div>"
      ],
      "text/plain": [
       "   A  B  AB  O\n",
       "0  1  0   0  0\n",
       "1  0  1   0  0\n",
       "2  0  0   1  0\n",
       "3  0  0   0  1"
      ]
     },
     "execution_count": 5,
     "metadata": {},
     "output_type": "execute_result"
    }
   ],
   "source": [
    "import pandas as pd\n",
    "blood_type = ['A','B','AB','O']\n",
    "df = pd.DataFrame({'blood_type':blood_type})\n",
    "df = pd.get_dummies(blood_type)[['A','B','AB','O']]\n",
    "df"
   ]
  },
  {
   "cell_type": "markdown",
   "metadata": {},
   "source": [
    "<h1><center>이산형 데이터 거리 측정</center></h1>\n",
    "\n",
    "<h2><center>1. Jaccard distance</center></h2>"
   ]
  },
  {
   "cell_type": "markdown",
   "metadata": {},
   "source": [
    "#### 예시: 문자열 기반 Jaccard 거리 계산"
   ]
  },
  {
   "cell_type": "code",
   "execution_count": 6,
   "metadata": {},
   "outputs": [
    {
     "data": {
      "text/plain": [
       "0.5714285714285714"
      ]
     },
     "execution_count": 6,
     "metadata": {},
     "output_type": "execute_result"
    }
   ],
   "source": [
    "from distance import jaccard\n",
    "s1 = '데이터사이언스'\n",
    "s2 = '빅데이터'\n",
    "jaccard(s1, s2)"
   ]
  },
  {
   "cell_type": "markdown",
   "metadata": {},
   "source": [
    "#### 예시: 토큰 기반 Jaccard 거리 계산"
   ]
  },
  {
   "cell_type": "code",
   "execution_count": 7,
   "metadata": {},
   "outputs": [
    {
     "data": {
      "text/plain": [
       "0.75"
      ]
     },
     "execution_count": 7,
     "metadata": {},
     "output_type": "execute_result"
    }
   ],
   "source": [
    "# 예시 문장\n",
    "sent1 = '빅데이터는 여러 분야에서 주목받고 있습니다'\n",
    "sent2 = '빅데이터는 통계와 밀접한 관련이 있습니다'\n",
    "\n",
    "# 토큰화 (tokenize)\n",
    "tokens_sent1 = sent1.split(' ')\n",
    "tokens_sent2 = sent2.split(' ')\n",
    "\n",
    "def jaccard_distance_tokens(lst1, lst2):\n",
    "    set1 = set(lst1)\n",
    "    set2 = set(lst2)\n",
    "    intersect = set1 & set2\n",
    "    union = set1 | set2\n",
    "    return 1 - len(intersect) / len(union)\n",
    "\n",
    "jaccard_distance_tokens(tokens_sent1, tokens_sent2)"
   ]
  },
  {
   "cell_type": "markdown",
   "metadata": {},
   "source": [
    "<h2><center>2. Levenshtein distance</center></h2>"
   ]
  },
  {
   "cell_type": "code",
   "execution_count": 8,
   "metadata": {},
   "outputs": [
    {
     "data": {
      "text/plain": [
       "5"
      ]
     },
     "execution_count": 8,
     "metadata": {},
     "output_type": "execute_result"
    }
   ],
   "source": [
    "from distance import levenshtein\n",
    "s1 = '데이터사이언스'\n",
    "s2 = '빅데이터'\n",
    "levenshtein(s1, s2)"
   ]
  },
  {
   "cell_type": "markdown",
   "metadata": {},
   "source": [
    "<h2><center>3. Jaro-Winkler distance</center></h2>"
   ]
  },
  {
   "cell_type": "code",
   "execution_count": 9,
   "metadata": {},
   "outputs": [
    {
     "data": {
      "text/plain": [
       "0.9393939393939394"
      ]
     },
     "execution_count": 9,
     "metadata": {},
     "output_type": "execute_result"
    }
   ],
   "source": [
    "# Jaro 거리 계산\n",
    "from jellyfish import jaro_distance\n",
    "s1 = 'integration'\n",
    "s2 = 'interaction'\n",
    "jaro_distance(s1, s2)"
   ]
  },
  {
   "cell_type": "code",
   "execution_count": 10,
   "metadata": {},
   "outputs": [
    {
     "data": {
      "text/plain": [
       "0.9636363636363636"
      ]
     },
     "execution_count": 10,
     "metadata": {},
     "output_type": "execute_result"
    }
   ],
   "source": [
    "jaro_dist = jaro_distance(s1, s2)\n",
    "# Jaro-Winkler 거리 계산\n",
    "def jaro_winkler(s1, s2, prefix_weight, jaro_dist):\n",
    "    \n",
    "    prefix = 0\n",
    "    for i in range(min(len(s1), len(s2))) : \n",
    "\n",
    "            if (s1[i] == s2[i]) : \n",
    "                prefix += 1\n",
    "            else : \n",
    "                break\n",
    "\n",
    "    prefix = min(4, prefix)\n",
    "    \n",
    "    return jaro_dist + prefix*prefix_weight*(1-jaro_dist)\n",
    "\n",
    "jaro_winkler(s1, s2, prefix_weight=0.1, jaro_dist=jaro_dist)"
   ]
  },
  {
   "cell_type": "code",
   "execution_count": null,
   "metadata": {},
   "outputs": [],
   "source": []
  }
 ],
 "metadata": {
  "kernelspec": {
   "display_name": "Python 3",
   "language": "python",
   "name": "python3"
  },
  "language_info": {
   "codemirror_mode": {
    "name": "ipython",
    "version": 3
   },
   "file_extension": ".py",
   "mimetype": "text/x-python",
   "name": "python",
   "nbconvert_exporter": "python",
   "pygments_lexer": "ipython3",
   "version": "3.7.6"
  }
 },
 "nbformat": 4,
 "nbformat_minor": 4
}
